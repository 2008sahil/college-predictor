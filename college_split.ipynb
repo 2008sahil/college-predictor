{
 "cells": [
  {
   "cell_type": "code",
   "execution_count": 1,
   "metadata": {},
   "outputs": [
    {
     "name": "stdout",
     "output_type": "stream",
     "text": [
      "['OPEN' 'EWS' 'OBC-NCL' 'SC' 'ST' 'OPEN (PwD)' 'EWS (PwD)' 'OBC-NCL (PwD)'\n",
      " 'SC (PwD)' 'ST (PwD)']\n"
     ]
    }
   ],
   "source": [
    "import pandas as pd\n",
    "import json\n",
    "\n",
    "\n",
    "\n",
    "df = pd.read_csv(\"JoSAA 2022 Seat Allocation Tool - For Surya.csv\", header=0)\n",
    "# print(df.head())\n",
    "seat_types = df[\"Seat Type\"].unique()\n",
    "print(seat_types)\n",
    "\n",
    "for seat_type in seat_types:\n",
    "    df_seat_type = df[df[\"Seat Type\"] == seat_type]\n",
    "    df_seat_type.to_json(f\"public/data/{seat_type}.json\", orient=\"records\")"
   ]
  },
  {
   "cell_type": "code",
   "execution_count": 42,
   "metadata": {},
   "outputs": [
    {
     "data": {
      "text/plain": [
       "Index(['College Rank', 'State', 'Exam', 'Institute', 'Academic Program Name',\n",
       "       'Quota', 'Special Quota', 'Seat Type', 'Gender', 'Round',\n",
       "       'Opening Rank', 'Closing Rank', 'Input Rank Comparison to Closing Rank',\n",
       "       'Category Match', '500', 'OBC-NCL'],\n",
       "      dtype='object')"
      ]
     },
     "execution_count": 42,
     "metadata": {},
     "output_type": "execute_result"
    }
   ],
   "source": [
    "df.columns"
   ]
  },
  {
   "cell_type": "code",
   "execution_count": 18,
   "metadata": {},
   "outputs": [
    {
     "data": {
      "text/plain": [
       "array(['Gender-Neutral', 'Female-only (including Supernumerary)'],\n",
       "      dtype=object)"
      ]
     },
     "execution_count": 18,
     "metadata": {},
     "output_type": "execute_result"
    }
   ],
   "source": [
    "df[\"Gender\"].unique()"
   ]
  },
  {
   "cell_type": "code",
   "execution_count": 22,
   "metadata": {},
   "outputs": [
    {
     "data": {
      "text/plain": [
       "array(['JEE Advanced', 'JEE Main'], dtype=object)"
      ]
     },
     "execution_count": 22,
     "metadata": {},
     "output_type": "execute_result"
    }
   ],
   "source": [
    "df[\"Exam\"].unique()"
   ]
  },
  {
   "cell_type": "code",
   "execution_count": 23,
   "metadata": {},
   "outputs": [
    {
     "data": {
      "text/plain": [
       "array(['Odisha', 'Maharashtra', 'Himachal Pradesh', 'New Delhi',\n",
       "       'Madhya Pradesh', 'West Bengal', 'Telangana', 'Rajasthan',\n",
       "       'Uttar Pradesh', 'Tamil Nadu', 'Gujarat', 'Bihar', 'Uttarakhand',\n",
       "       'Jharkhand', 'Punjab', 'Assam', 'Chhatisgarh', 'Goa', 'Kerala',\n",
       "       'Andhra Pradesh', 'Jammu & Kashmir', 'Karnataka', 'Tripura',\n",
       "       'Meghalaya', 'Nagaland', 'Puducherry', 'Sikkim',\n",
       "       'Arunachal Pradesh', 'Haryana', 'Manipur', 'Mizoram', 'Diu'],\n",
       "      dtype=object)"
      ]
     },
     "execution_count": 23,
     "metadata": {},
     "output_type": "execute_result"
    }
   ],
   "source": [
    "df[\"State\"].unique()"
   ]
  },
  {
   "cell_type": "code",
   "execution_count": 19,
   "metadata": {},
   "outputs": [
    {
     "data": {
      "text/plain": [
       "6"
      ]
     },
     "execution_count": 19,
     "metadata": {},
     "output_type": "execute_result"
    }
   ],
   "source": [
    "df[\"Round\"].max()"
   ]
  },
  {
   "cell_type": "code",
   "execution_count": 28,
   "metadata": {},
   "outputs": [
    {
     "data": {
      "text/plain": [
       "array(['AI', 'HS', 'OS'], dtype=object)"
      ]
     },
     "execution_count": 28,
     "metadata": {},
     "output_type": "execute_result"
    }
   ],
   "source": [
    "df[\"Quota\"].unique()"
   ]
  },
  {
   "cell_type": "code",
   "execution_count": null,
   "metadata": {},
   "outputs": [],
   "source": [
    "# re rank based on round 1 ke open category ka closing ranks!"
   ]
  },
  {
   "cell_type": "code",
   "execution_count": 27,
   "metadata": {},
   "outputs": [
    {
     "data": {
      "text/plain": [
       "array(['HS', 'OS'], dtype=object)"
      ]
     },
     "execution_count": 27,
     "metadata": {},
     "output_type": "execute_result"
    }
   ],
   "source": [
    "df[df[\"Institute\"] == \"National Institute of Technology Karnataka, Surathkal\"][\"Quota\"].unique()"
   ]
  },
  {
   "cell_type": "code",
   "execution_count": 32,
   "metadata": {},
   "outputs": [
    {
     "data": {
      "text/plain": [
       "(Index(['S. No.', 'Rollno', 'Name', 'Quota', 'AIR', 'Category', 'optionN o',\n",
       "        'Institute Code', 'Institute Name', 'Subject', 'Allotted Category',\n",
       "        'Allotte d ph', 'Admitte dRound'],\n",
       "       dtype='object'),\n",
       " Index(['Institute Name', 'State', 'Subject', 'General', 'EW', 'SC', 'ST',\n",
       "        'OBC', 'General_PWD', 'EW_PWD', 'SC_PWD', 'ST_PWD', 'OBC_PWD',\n",
       "        'Unnamed: 13', 'Unnamed: 14', 'Unnamed: 15', 'Unnamed: 16',\n",
       "        'Unnamed: 17', 'Unnamed: 18', 'Unnamed: 19', 'Unnamed: 20',\n",
       "        'Unnamed: 21', 'Unnamed: 22', 'Unnamed: 23', 'Unnamed: 24'],\n",
       "       dtype='object'))"
      ]
     },
     "execution_count": 32,
     "metadata": {},
     "output_type": "execute_result"
    }
   ],
   "source": [
    "neet_report = pd.read_csv(\"Admitted Candidates List Upto Mop Up Round MBBS BD.xlsx - Report.csv\")\n",
    "neet_stud = pd.read_csv(\"Admitted Candidates List Upto Mop Up Round MBBS BD.xlsx - Table 1.csv\", header=1)\n",
    "\n",
    "neet_stud.columns, neet_report.columns"
   ]
  },
  {
   "cell_type": "code",
   "execution_count": null,
   "metadata": {},
   "outputs": [],
   "source": []
  },
  {
   "cell_type": "code",
   "execution_count": 186,
   "metadata": {},
   "outputs": [],
   "source": [
    "from collections import defaultdict\n",
    "\n",
    "institute_code_to_names = defaultdict(list)\n",
    "institute_name_to_codes = {}\n",
    "for it, row in neet_stud.iterrows():\n",
    "    code, name = row[\"Institute Code\"], row[\"Institute Name\"]\n",
    "\n",
    "    if name not in institute_code_to_names[code]:\n",
    "        institute_code_to_names[code].append(name)\n",
    "\n",
    "    institute_name_to_codes[name] = code"
   ]
  },
  {
   "cell_type": "code",
   "execution_count": null,
   "metadata": {},
   "outputs": [],
   "source": [
    "for k, v in institute_code_to_names.items():\n",
    "    if len(v) > 1:\n",
    "        print(k, v)\n",
    "        break"
   ]
  },
  {
   "cell_type": "code",
   "execution_count": 167,
   "metadata": {},
   "outputs": [],
   "source": [
    "# i am picking the first one that appears\n",
    "code_to_college_mapper = {}\n",
    "for k, v in institute_code_to_names.items():\n",
    "    code_to_college_mapper[k] = v[0]\n",
    "\n",
    "assert len(institute_code_to_names) == len(code_to_college_mapper)"
   ]
  },
  {
   "cell_type": "code",
   "execution_count": 168,
   "metadata": {},
   "outputs": [],
   "source": [
    "# for each round, for each subject, for each quota, \n",
    "# using ph as pwd -- physically handicapped\n",
    "# consider allotted cat or actual cat?\n",
    "# what to do about quota? Employee State Insurance, etc.\n",
    "# all of this should be for each institute na ... institute code!!\n",
    "deter_cols = [\"Quota\", \"Admitte dRound\", \"Allotte d ph\", \"Subject\"]\n",
    "\n",
    "output_cols = [\"Institute Code\", \"Institute Name\"]\n",
    "\n",
    "close_mapper = defaultdict(lambda : 0)\n",
    "open_mapper = defaultdict(lambda : float(\"inf\"))\n",
    "\n",
    "for it, row in neet_stud.iterrows():\n",
    "\n",
    "    deter_col_vals = [row[x] for x in deter_cols]\n",
    "    \n",
    "    cat = row[\"Allotted Category\"]\n",
    "    if cat == \"OP\":\n",
    "        cat = \"General\"\n",
    "    \n",
    "    deter_col_vals.append(cat)\n",
    "\n",
    "    inst_code = row[\"Institute Code\"]\n",
    "    output_col_vals = [inst_code, code_to_college_mapper[inst_code]]\n",
    "\n",
    "    all_cols = deter_col_vals + output_col_vals\n",
    "\n",
    "    all_cols = tuple(all_cols) # hashable\n",
    "\n",
    "    if close_mapper[all_cols] < row[\"AIR\"]:\n",
    "        close_mapper[all_cols] = row[\"AIR\"]\n",
    "\n",
    "    if open_mapper[all_cols] > row[\"AIR\"]:\n",
    "        open_mapper[all_cols] = row[\"AIR\"]\n",
    "\n",
    "\n"
   ]
  },
  {
   "cell_type": "code",
   "execution_count": 169,
   "metadata": {},
   "outputs": [
    {
     "name": "stdout",
     "output_type": "stream",
     "text": [
      "('Open Seat Quota', 1, 'NO', 'MBBS', 'General', 200502, 'AIIMS, New Delhi,AIIMS ANSARI NAGAR EAST AUROBINDO MARG NEW DELHI 110029, Delhi (NCT), 110029') 55.0\n"
     ]
    }
   ],
   "source": [
    "for k, v in close_mapper.items():\n",
    "    print(k, v)\n",
    "    break"
   ]
  },
  {
   "cell_type": "code",
   "execution_count": 170,
   "metadata": {},
   "outputs": [],
   "source": [
    "cat_unique_values = [\"SC\", \"ST\", \"General\", \"OBC\", \"EW\"]"
   ]
  },
  {
   "cell_type": "code",
   "execution_count": 171,
   "metadata": {},
   "outputs": [],
   "source": [
    "all_dic = []\n",
    "selectors = [0, 1, 2, 3, 4, 5, 6]\n",
    "selector_names = [\"Quota\", \"Round\", \"is_PWD\", \"Subject\", \"Seat Type\", \"Institute Code\", \"Institute Name\"]\n",
    "\n",
    "for k, v in close_mapper.items():\n",
    "    dic = {}\n",
    "    for key_index, name in zip(selectors, selector_names):\n",
    "        dic[name] = k[key_index]\n",
    "\n",
    "    if k in open_mapper:\n",
    "        dic[\"Opening Rank\"] = open_mapper[k]\n",
    "\n",
    "    dic[\"Closing_Rank\"] = v\n",
    "    \n",
    "    all_dic.append(dic)\n",
    "\n",
    "    # break\n",
    "\n",
    "all_dic = pd.DataFrame(all_dic)"
   ]
  },
  {
   "cell_type": "code",
   "execution_count": 172,
   "metadata": {},
   "outputs": [],
   "source": [
    "# time to rank institutes!!\n",
    "# find round 1 ka opening rank.. rank based on it!\n",
    "\n",
    "code_to_open_ranks = defaultdict(lambda : float(\"inf\"))\n",
    "\n",
    "for it, row in all_dic.iterrows():\n",
    "    # print(row[\"Round\"] == 1 , row[\"Category\"] == \"General\" , row[\"is_PWD\"] == \"NO\", row[\"Quota\"] == \"Open Seat Quota\")\n",
    "    if code_to_open_ranks[row[\"Institute Code\"]] > row[\"Opening Rank\"]:\n",
    "        code_to_open_ranks[row[\"Institute Code\"]] = row[\"Opening Rank\"]\n",
    "\n",
    "        # break"
   ]
  },
  {
   "cell_type": "code",
   "execution_count": 173,
   "metadata": {},
   "outputs": [],
   "source": [
    "# now sort the dict based on this\n",
    "# sort keys of dict based on values\n",
    "ranking = sorted(code_to_open_ranks.items(), key = lambda item: item[1])\n",
    "\n",
    "code_to_rank_mapper = {}\n",
    "\n",
    "rank_idx = 1\n",
    "for k, v in ranking:\n",
    "    code_to_rank_mapper[k] = rank_idx\n",
    "    rank_idx += 1"
   ]
  },
  {
   "cell_type": "code",
   "execution_count": 174,
   "metadata": {},
   "outputs": [
    {
     "data": {
      "text/plain": [
       "(483, 483)"
      ]
     },
     "execution_count": 174,
     "metadata": {},
     "output_type": "execute_result"
    }
   ],
   "source": [
    "len(all_dic[\"Institute Code\"].unique()), len(code_to_open_ranks)"
   ]
  },
  {
   "cell_type": "code",
   "execution_count": 175,
   "metadata": {},
   "outputs": [],
   "source": [
    "all_dic[\"College Rank\"] = all_dic[\"Institute Code\"].map(code_to_rank_mapper)"
   ]
  },
  {
   "cell_type": "code",
   "execution_count": 177,
   "metadata": {},
   "outputs": [],
   "source": [
    "# combine pwd and category\n",
    "all_dic[\"Seat Type\"] = all_dic.apply(lambda row: row[\"Seat Type\"] + \" (PwD)\" if row[\"is_PWD\"] != \"NO\" else row[\"Seat Type\"], axis = 1)"
   ]
  },
  {
   "cell_type": "code",
   "execution_count": 151,
   "metadata": {},
   "outputs": [
    {
     "data": {
      "text/plain": [
       "(Index(['Quota', 'Round', 'is_PWD', 'Subject', 'Category', 'Institute Code',\n",
       "        'Institute Name', 'Opening Rank', 'Closing_Rank', 'College Rank'],\n",
       "       dtype='object'),\n",
       " Index(['College Rank', 'State', 'Exam', 'Institute', 'Academic Program Name',\n",
       "        'Quota', 'Special Quota', 'Seat Type', 'Gender', 'Round',\n",
       "        'Opening Rank', 'Closing Rank', 'Input Rank Comparison to Closing Rank',\n",
       "        'Category Match', '500', 'OBC-NCL'],\n",
       "       dtype='object'))"
      ]
     },
     "execution_count": 151,
     "metadata": {},
     "output_type": "execute_result"
    }
   ],
   "source": [
    "all_dic.columns, df.columns"
   ]
  },
  {
   "cell_type": "code",
   "execution_count": 183,
   "metadata": {},
   "outputs": [],
   "source": [
    "all_dic = all_dic.rename(columns={\n",
    "    \"Category\": \"Seat Type\",\n",
    "    \"Institute Name\": \"Institute\",\n",
    "    \"Subject\": \"Academic Program Name\",\n",
    "    \"Closing_Rank\": \"Closing Rank\"\n",
    "}) "
   ]
  },
  {
   "cell_type": "code",
   "execution_count": 179,
   "metadata": {},
   "outputs": [],
   "source": [
    "def replace_cat(row):\n",
    "    cat = row[\"Seat Type\"]\n",
    "    if cat == \"General\":\n",
    "        cat = \"OPEN\"\n",
    "    elif cat == \"General (PwD)\":\n",
    "        cat = \"OPEN (PwD)\"\n",
    "    elif cat == \"EW\":\n",
    "        cat = \"EWS\"\n",
    "    elif cat == \"EW (PwD)\":\n",
    "        cat = \"EWS (PwD)\"\n",
    "    elif cat == \"OBC\":\n",
    "        cat = \"OBC-NCL\"\n",
    "    elif cat == \"OBC (PwD)\":\n",
    "        cat = \"OBC-NCL (PwD)\"\n",
    "\n",
    "    return cat\n",
    "\n",
    "all_dic[\"Seat Type\"] = all_dic.apply(lambda row: replace_cat(row), axis = 1)\n",
    "\n"
   ]
  },
  {
   "cell_type": "code",
   "execution_count": 187,
   "metadata": {},
   "outputs": [
    {
     "name": "stdout",
     "output_type": "stream",
     "text": [
      "(23059, 13) (433, 25)\n"
     ]
    }
   ],
   "source": [
    "# figuring out state for each..\n",
    "# merge on institute name\n",
    "print(neet_stud.shape, neet_report.shape)\n",
    "inst_code_to_state_map = {}\n",
    "for it, row in pd.merge(neet_stud, neet_report, on=[\"Institute Name\"]).iterrows():\n",
    "    name, state = row[\"Institute Name\"], row[\"State\"]\n",
    "\n",
    "    inst_code_to_state_map[institute_name_to_codes[name]] = state\n",
    "\n",
    "\n",
    "\n",
    "all_dic[\"State\"] = all_dic[\"Institute Code\"].map(inst_code_to_state_map)\n"
   ]
  },
  {
   "cell_type": "code",
   "execution_count": 188,
   "metadata": {},
   "outputs": [],
   "source": [
    "for cat in all_dic[\"Seat Type\"].unique():\n",
    "    all_dic_category = all_dic[all_dic[\"Seat Type\"] == cat]\n",
    "\n",
    "    all_dic_category.to_json(f\"public/data/NEET/{cat}.json\", orient=\"records\")"
   ]
  },
  {
   "cell_type": "code",
   "execution_count": 70,
   "metadata": {},
   "outputs": [
    {
     "data": {
      "text/plain": [
       "(1, 2, 3, 4)"
      ]
     },
     "execution_count": 70,
     "metadata": {},
     "output_type": "execute_result"
    }
   ],
   "source": [
    "(1, 2, 3) + (4,)"
   ]
  },
  {
   "cell_type": "code",
   "execution_count": 190,
   "metadata": {},
   "outputs": [],
   "source": [
    "all_dic.to_csv(\"Surya - NEET Data.csv\")"
   ]
  },
  {
   "cell_type": "code",
   "execution_count": 8,
   "metadata": {},
   "outputs": [],
   "source": [
    "schol_data = pd.read_csv(\"scholarship_data.csv\")"
   ]
  },
  {
   "cell_type": "code",
   "execution_count": 9,
   "metadata": {},
   "outputs": [],
   "source": [
    "# update state names\n",
    "names_in_sheet = []\n",
    "for it, row in schol_data.iterrows():\n",
    "    for k, v in row.items():\n",
    "        if \"State\" in k:\n",
    "            if v not in names_in_sheet:\n",
    "                names_in_sheet.append(v)\n",
    "\n",
    "            "
   ]
  },
  {
   "cell_type": "code",
   "execution_count": 10,
   "metadata": {},
   "outputs": [
    {
     "data": {
      "text/plain": [
       "[nan,\n",
       " 'Andhra Pradesh',\n",
       " 'Karnataka',\n",
       " 'Telangana',\n",
       " 'Gujarat',\n",
       " 'Maharashtra',\n",
       " 'Tamil Nadu',\n",
       " 'Bihar',\n",
       " 'Haryana',\n",
       " 'Kerala',\n",
       " 'Arunachal Pradesh',\n",
       " 'Assam',\n",
       " 'Manipur',\n",
       " 'Meghalaya',\n",
       " 'Mizoram',\n",
       " 'Nagaland',\n",
       " 'Sikkim',\n",
       " 'Tripura']"
      ]
     },
     "execution_count": 10,
     "metadata": {},
     "output_type": "execute_result"
    }
   ],
   "source": [
    "names_in_sheet"
   ]
  },
  {
   "cell_type": "code",
   "execution_count": 11,
   "metadata": {},
   "outputs": [],
   "source": [
    "# update state names\n",
    "city_names_in_sheet = []\n",
    "for it, row in schol_data.iterrows():\n",
    "    for k, v in row.items():\n",
    "        if \"City\" in k:\n",
    "            if v not in city_names_in_sheet:\n",
    "                city_names_in_sheet.append(v)\n",
    "\n",
    "            "
   ]
  },
  {
   "cell_type": "code",
   "execution_count": 12,
   "metadata": {},
   "outputs": [
    {
     "data": {
      "text/plain": [
       "[nan, 'Mumbai', 'Delhi NCR', 'Ahmedabad', 'Bangalore', 'Pune']"
      ]
     },
     "execution_count": 12,
     "metadata": {},
     "output_type": "execute_result"
    }
   ],
   "source": [
    "city_names_in_sheet"
   ]
  },
  {
   "cell_type": "code",
   "execution_count": 14,
   "metadata": {},
   "outputs": [
    {
     "data": {
      "text/plain": [
       "['IIT', 'NIT', nan]"
      ]
     },
     "execution_count": 14,
     "metadata": {},
     "output_type": "execute_result"
    }
   ],
   "source": [
    "college_names_in_sheet = []\n",
    "for it, row in schol_data.iterrows():\n",
    "    for k, v in row.items():\n",
    "        if \"College\" in k:\n",
    "            if v not in college_names_in_sheet:\n",
    "                college_names_in_sheet.append(v)\n",
    "\n",
    "college_names_in_sheet"
   ]
  },
  {
   "cell_type": "code",
   "execution_count": 15,
   "metadata": {},
   "outputs": [
    {
     "data": {
      "text/plain": [
       "(98, 38)"
      ]
     },
     "execution_count": 15,
     "metadata": {},
     "output_type": "execute_result"
    }
   ],
   "source": [
    "schol_data.shape"
   ]
  },
  {
   "cell_type": "code",
   "execution_count": 16,
   "metadata": {},
   "outputs": [
    {
     "data": {
      "text/html": [
       "<div>\n",
       "<style scoped>\n",
       "    .dataframe tbody tr th:only-of-type {\n",
       "        vertical-align: middle;\n",
       "    }\n",
       "\n",
       "    .dataframe tbody tr th {\n",
       "        vertical-align: top;\n",
       "    }\n",
       "\n",
       "    .dataframe thead th {\n",
       "        text-align: right;\n",
       "    }\n",
       "</style>\n",
       "<table border=\"1\" class=\"dataframe\">\n",
       "  <thead>\n",
       "    <tr style=\"text-align: right;\">\n",
       "      <th></th>\n",
       "      <th>Sl No</th>\n",
       "      <th>Scholarship Name</th>\n",
       "      <th>National Scholarship</th>\n",
       "      <th>Status</th>\n",
       "      <th>Class 11 can Apply</th>\n",
       "      <th>Class 12 can Apply</th>\n",
       "      <th>Gender</th>\n",
       "      <th>Family Income (in LPA)</th>\n",
       "      <th>Category</th>\n",
       "      <th>State 1</th>\n",
       "      <th>...</th>\n",
       "      <th>Benefits</th>\n",
       "      <th>Doc Required</th>\n",
       "      <th>Number of Applicants</th>\n",
       "      <th>Number of Scholars</th>\n",
       "      <th>Karnataka Applicants</th>\n",
       "      <th>Application Link</th>\n",
       "      <th>Added to Portal</th>\n",
       "      <th>Information about instituions eligble</th>\n",
       "      <th>Deadline for the year 2021-22</th>\n",
       "      <th>Unnamed: 37</th>\n",
       "    </tr>\n",
       "  </thead>\n",
       "  <tbody>\n",
       "    <tr>\n",
       "      <th>0</th>\n",
       "      <td>1</td>\n",
       "      <td>Samsung Star</td>\n",
       "      <td>No</td>\n",
       "      <td>Closed</td>\n",
       "      <td>No</td>\n",
       "      <td>No</td>\n",
       "      <td>Both</td>\n",
       "      <td>NaN</td>\n",
       "      <td>NaN</td>\n",
       "      <td>NaN</td>\n",
       "      <td>...</td>\n",
       "      <td>The selected students will receive a scholarsh...</td>\n",
       "      <td>Self-attested photograph\\nSelf-certified Class...</td>\n",
       "      <td>NaN</td>\n",
       "      <td>NaN</td>\n",
       "      <td>NaN</td>\n",
       "      <td>https://www.samsung.com/in/microsite/sapne-hue...</td>\n",
       "      <td>Yes</td>\n",
       "      <td>Not updated yet</td>\n",
       "      <td>NaN</td>\n",
       "      <td>NaN</td>\n",
       "    </tr>\n",
       "    <tr>\n",
       "      <th>1</th>\n",
       "      <td>2</td>\n",
       "      <td>Colgate - BDS</td>\n",
       "      <td>No</td>\n",
       "      <td>Closed</td>\n",
       "      <td>No</td>\n",
       "      <td>No</td>\n",
       "      <td>Both</td>\n",
       "      <td>5.0</td>\n",
       "      <td>NaN</td>\n",
       "      <td>NaN</td>\n",
       "      <td>...</td>\n",
       "      <td>INR 50,000 per annum for 4 years</td>\n",
       "      <td>Passport-sized photograph\\nValid ID proof – Ei...</td>\n",
       "      <td>NaN</td>\n",
       "      <td>NaN</td>\n",
       "      <td>NaN</td>\n",
       "      <td>https://www.colgate.com/en-in/smile-karo-aur-s...</td>\n",
       "      <td>NaN</td>\n",
       "      <td>NaN</td>\n",
       "      <td>NaN</td>\n",
       "      <td>NaN</td>\n",
       "    </tr>\n",
       "    <tr>\n",
       "      <th>2</th>\n",
       "      <td>3</td>\n",
       "      <td>Colgate - Class XI</td>\n",
       "      <td>No</td>\n",
       "      <td>Closed</td>\n",
       "      <td>Yes</td>\n",
       "      <td>No</td>\n",
       "      <td>Both</td>\n",
       "      <td>5.0</td>\n",
       "      <td>NaN</td>\n",
       "      <td>NaN</td>\n",
       "      <td>...</td>\n",
       "      <td>INR 20,000 per annum for 2 years</td>\n",
       "      <td>Passport-sized photograph\\nValid ID proof – Ei...</td>\n",
       "      <td>NaN</td>\n",
       "      <td>NaN</td>\n",
       "      <td>NaN</td>\n",
       "      <td>https://www.colgate.com/en-in/smile-karo-aur-s...</td>\n",
       "      <td>NaN</td>\n",
       "      <td>NaN</td>\n",
       "      <td>NaN</td>\n",
       "      <td>NaN</td>\n",
       "    </tr>\n",
       "    <tr>\n",
       "      <th>3</th>\n",
       "      <td>4</td>\n",
       "      <td>Colgate - Graduate</td>\n",
       "      <td>No</td>\n",
       "      <td>Closed</td>\n",
       "      <td>No</td>\n",
       "      <td>No</td>\n",
       "      <td>Both</td>\n",
       "      <td>5.0</td>\n",
       "      <td>NaN</td>\n",
       "      <td>NaN</td>\n",
       "      <td>...</td>\n",
       "      <td>INR 30,000 per year for 3 years</td>\n",
       "      <td>Passport-sized photograph\\r\\nValid ID proof – ...</td>\n",
       "      <td>NaN</td>\n",
       "      <td>NaN</td>\n",
       "      <td>NaN</td>\n",
       "      <td>https://www.colgate.com/en-in/smile-karo-aur-s...</td>\n",
       "      <td>NaN</td>\n",
       "      <td>NaN</td>\n",
       "      <td>NaN</td>\n",
       "      <td>NaN</td>\n",
       "    </tr>\n",
       "    <tr>\n",
       "      <th>4</th>\n",
       "      <td>5</td>\n",
       "      <td>Santoor Women's</td>\n",
       "      <td>No</td>\n",
       "      <td>Closed</td>\n",
       "      <td>No</td>\n",
       "      <td>No</td>\n",
       "      <td>Female</td>\n",
       "      <td>NaN</td>\n",
       "      <td>NaN</td>\n",
       "      <td>Andhra Pradesh</td>\n",
       "      <td>...</td>\n",
       "      <td>The winners of the scholarship will be given I...</td>\n",
       "      <td>One recent passport size photograph\\nPhotocopy...</td>\n",
       "      <td>NaN</td>\n",
       "      <td>NaN</td>\n",
       "      <td>NaN</td>\n",
       "      <td>https://santoorscholarships.com/index.php</td>\n",
       "      <td>NaN</td>\n",
       "      <td>Not updated yet</td>\n",
       "      <td>NaN</td>\n",
       "      <td>NaN</td>\n",
       "    </tr>\n",
       "    <tr>\n",
       "      <th>...</th>\n",
       "      <td>...</td>\n",
       "      <td>...</td>\n",
       "      <td>...</td>\n",
       "      <td>...</td>\n",
       "      <td>...</td>\n",
       "      <td>...</td>\n",
       "      <td>...</td>\n",
       "      <td>...</td>\n",
       "      <td>...</td>\n",
       "      <td>...</td>\n",
       "      <td>...</td>\n",
       "      <td>...</td>\n",
       "      <td>...</td>\n",
       "      <td>...</td>\n",
       "      <td>...</td>\n",
       "      <td>...</td>\n",
       "      <td>...</td>\n",
       "      <td>...</td>\n",
       "      <td>...</td>\n",
       "      <td>...</td>\n",
       "      <td>...</td>\n",
       "    </tr>\n",
       "    <tr>\n",
       "      <th>93</th>\n",
       "      <td>14</td>\n",
       "      <td>CENTRAL SECTOR SCHEME OF SCHOLARSHIPS FOR COLL...</td>\n",
       "      <td>Yes</td>\n",
       "      <td>NaN</td>\n",
       "      <td>No</td>\n",
       "      <td>No</td>\n",
       "      <td>Both</td>\n",
       "      <td>4.5</td>\n",
       "      <td>General</td>\n",
       "      <td>NaN</td>\n",
       "      <td>...</td>\n",
       "      <td>12,000 per annum for all three years of UG and...</td>\n",
       "      <td>Student photograph, copy of bank passbook, Inc...</td>\n",
       "      <td>NaN</td>\n",
       "      <td>NaN</td>\n",
       "      <td>NaN</td>\n",
       "      <td>https://scholarships.gov.in/</td>\n",
       "      <td>NaN</td>\n",
       "      <td>NaN</td>\n",
       "      <td>NaN</td>\n",
       "      <td>NaN</td>\n",
       "    </tr>\n",
       "    <tr>\n",
       "      <th>94</th>\n",
       "      <td>15</td>\n",
       "      <td>Prime Minister's Scholarship Scheme For Centra...</td>\n",
       "      <td>Yes</td>\n",
       "      <td>NaN</td>\n",
       "      <td>NaN</td>\n",
       "      <td>NaN</td>\n",
       "      <td>NaN</td>\n",
       "      <td>NaN</td>\n",
       "      <td>NaN</td>\n",
       "      <td>NaN</td>\n",
       "      <td>...</td>\n",
       "      <td>NaN</td>\n",
       "      <td>NaN</td>\n",
       "      <td>NaN</td>\n",
       "      <td>NaN</td>\n",
       "      <td>NaN</td>\n",
       "      <td>https://scholarships.gov.in/</td>\n",
       "      <td>NaN</td>\n",
       "      <td>NaN</td>\n",
       "      <td>NaN</td>\n",
       "      <td>NaN</td>\n",
       "    </tr>\n",
       "    <tr>\n",
       "      <th>95</th>\n",
       "      <td>16</td>\n",
       "      <td>PRIME MINISTER'S SCHOLARSHIP SCHEME FOR WARDS ...</td>\n",
       "      <td>Yes</td>\n",
       "      <td>NaN</td>\n",
       "      <td>No</td>\n",
       "      <td>No</td>\n",
       "      <td>Both</td>\n",
       "      <td>NaN</td>\n",
       "      <td>General</td>\n",
       "      <td>NaN</td>\n",
       "      <td>...</td>\n",
       "      <td>2,5000 per month for male students and 3,000 p...</td>\n",
       "      <td>A certificate issued by the State Govt. indica...</td>\n",
       "      <td>NaN</td>\n",
       "      <td>NaN</td>\n",
       "      <td>NaN</td>\n",
       "      <td>https://scholarships.gov.in/</td>\n",
       "      <td>NaN</td>\n",
       "      <td>NaN</td>\n",
       "      <td>NaN</td>\n",
       "      <td>NaN</td>\n",
       "    </tr>\n",
       "    <tr>\n",
       "      <th>96</th>\n",
       "      <td>17</td>\n",
       "      <td>Prime Minister's Scholarship Scheme For RPF/RPSF</td>\n",
       "      <td>Yes</td>\n",
       "      <td>NaN</td>\n",
       "      <td>No</td>\n",
       "      <td>No</td>\n",
       "      <td>Both</td>\n",
       "      <td>NaN</td>\n",
       "      <td>General</td>\n",
       "      <td>NaN</td>\n",
       "      <td>...</td>\n",
       "      <td>2,5000 per month for male students and 3,000 p...</td>\n",
       "      <td>Service Certificate issued by respective offic...</td>\n",
       "      <td>NaN</td>\n",
       "      <td>NaN</td>\n",
       "      <td>NaN</td>\n",
       "      <td>https://scholarships.gov.in/</td>\n",
       "      <td>NaN</td>\n",
       "      <td>NaN</td>\n",
       "      <td>NaN</td>\n",
       "      <td>NaN</td>\n",
       "    </tr>\n",
       "    <tr>\n",
       "      <th>97</th>\n",
       "      <td>18</td>\n",
       "      <td>FINANCIAL SUPPORT TO THE STUDENTS OF NER FOR H...</td>\n",
       "      <td>Yes</td>\n",
       "      <td>NaN</td>\n",
       "      <td>No</td>\n",
       "      <td>No</td>\n",
       "      <td>Both</td>\n",
       "      <td>8.0</td>\n",
       "      <td>General</td>\n",
       "      <td>Assam</td>\n",
       "      <td>...</td>\n",
       "      <td>Diploma:20,000 per annum, Degree:22,000 per an...</td>\n",
       "      <td>Permanent certificate, Income certificate,  Ba...</td>\n",
       "      <td>NaN</td>\n",
       "      <td>NaN</td>\n",
       "      <td>NaN</td>\n",
       "      <td>https://scholarships.gov.in/</td>\n",
       "      <td>NaN</td>\n",
       "      <td>NaN</td>\n",
       "      <td>NaN</td>\n",
       "      <td>NaN</td>\n",
       "    </tr>\n",
       "  </tbody>\n",
       "</table>\n",
       "<p>98 rows × 38 columns</p>\n",
       "</div>"
      ],
      "text/plain": [
       "    Sl No                                   Scholarship Name  \\\n",
       "0       1                                       Samsung Star   \n",
       "1       2                                      Colgate - BDS   \n",
       "2       3                                 Colgate - Class XI   \n",
       "3       4                                 Colgate - Graduate   \n",
       "4       5                                    Santoor Women's   \n",
       "..    ...                                                ...   \n",
       "93     14  CENTRAL SECTOR SCHEME OF SCHOLARSHIPS FOR COLL...   \n",
       "94     15  Prime Minister's Scholarship Scheme For Centra...   \n",
       "95     16  PRIME MINISTER'S SCHOLARSHIP SCHEME FOR WARDS ...   \n",
       "96     17   Prime Minister's Scholarship Scheme For RPF/RPSF   \n",
       "97     18  FINANCIAL SUPPORT TO THE STUDENTS OF NER FOR H...   \n",
       "\n",
       "   National Scholarship  Status Class 11 can Apply Class 12 can Apply  Gender  \\\n",
       "0                    No  Closed                 No                 No    Both   \n",
       "1                    No  Closed                 No                 No    Both   \n",
       "2                    No  Closed                Yes                 No    Both   \n",
       "3                    No  Closed                 No                 No    Both   \n",
       "4                    No  Closed                 No                 No  Female   \n",
       "..                  ...     ...                ...                ...     ...   \n",
       "93                  Yes     NaN                 No                 No    Both   \n",
       "94                  Yes     NaN                NaN                NaN     NaN   \n",
       "95                  Yes     NaN                 No                 No    Both   \n",
       "96                  Yes     NaN                 No                 No    Both   \n",
       "97                  Yes     NaN                 No                 No    Both   \n",
       "\n",
       "    Family Income (in LPA)  Category         State 1  ...  \\\n",
       "0                      NaN       NaN             NaN  ...   \n",
       "1                      5.0       NaN             NaN  ...   \n",
       "2                      5.0       NaN             NaN  ...   \n",
       "3                      5.0       NaN             NaN  ...   \n",
       "4                      NaN       NaN  Andhra Pradesh  ...   \n",
       "..                     ...       ...             ...  ...   \n",
       "93                     4.5   General             NaN  ...   \n",
       "94                     NaN       NaN             NaN  ...   \n",
       "95                     NaN  General              NaN  ...   \n",
       "96                     NaN  General              NaN  ...   \n",
       "97                     8.0   General           Assam  ...   \n",
       "\n",
       "                                             Benefits  \\\n",
       "0   The selected students will receive a scholarsh...   \n",
       "1                    INR 50,000 per annum for 4 years   \n",
       "2                    INR 20,000 per annum for 2 years   \n",
       "3                     INR 30,000 per year for 3 years   \n",
       "4   The winners of the scholarship will be given I...   \n",
       "..                                                ...   \n",
       "93  12,000 per annum for all three years of UG and...   \n",
       "94                                                NaN   \n",
       "95  2,5000 per month for male students and 3,000 p...   \n",
       "96  2,5000 per month for male students and 3,000 p...   \n",
       "97  Diploma:20,000 per annum, Degree:22,000 per an...   \n",
       "\n",
       "                                         Doc Required Number of Applicants  \\\n",
       "0   Self-attested photograph\\nSelf-certified Class...                  NaN   \n",
       "1   Passport-sized photograph\\nValid ID proof – Ei...                  NaN   \n",
       "2   Passport-sized photograph\\nValid ID proof – Ei...                  NaN   \n",
       "3   Passport-sized photograph\\r\\nValid ID proof – ...                  NaN   \n",
       "4   One recent passport size photograph\\nPhotocopy...                  NaN   \n",
       "..                                                ...                  ...   \n",
       "93  Student photograph, copy of bank passbook, Inc...                  NaN   \n",
       "94                                                NaN                  NaN   \n",
       "95  A certificate issued by the State Govt. indica...                  NaN   \n",
       "96  Service Certificate issued by respective offic...                  NaN   \n",
       "97  Permanent certificate, Income certificate,  Ba...                  NaN   \n",
       "\n",
       "   Number of Scholars Karnataka Applicants  \\\n",
       "0                 NaN                  NaN   \n",
       "1                 NaN                  NaN   \n",
       "2                 NaN                  NaN   \n",
       "3                 NaN                  NaN   \n",
       "4                 NaN                  NaN   \n",
       "..                ...                  ...   \n",
       "93                NaN                  NaN   \n",
       "94                NaN                  NaN   \n",
       "95                NaN                  NaN   \n",
       "96                NaN                  NaN   \n",
       "97                NaN                  NaN   \n",
       "\n",
       "                                     Application Link Added to Portal  \\\n",
       "0   https://www.samsung.com/in/microsite/sapne-hue...             Yes   \n",
       "1   https://www.colgate.com/en-in/smile-karo-aur-s...             NaN   \n",
       "2   https://www.colgate.com/en-in/smile-karo-aur-s...             NaN   \n",
       "3   https://www.colgate.com/en-in/smile-karo-aur-s...             NaN   \n",
       "4           https://santoorscholarships.com/index.php             NaN   \n",
       "..                                                ...             ...   \n",
       "93                       https://scholarships.gov.in/             NaN   \n",
       "94                       https://scholarships.gov.in/             NaN   \n",
       "95                       https://scholarships.gov.in/             NaN   \n",
       "96                       https://scholarships.gov.in/             NaN   \n",
       "97                       https://scholarships.gov.in/             NaN   \n",
       "\n",
       "   Information about instituions eligble Deadline for the year 2021-22  \\\n",
       "0                        Not updated yet                           NaN   \n",
       "1                                    NaN                           NaN   \n",
       "2                                    NaN                           NaN   \n",
       "3                                    NaN                           NaN   \n",
       "4                        Not updated yet                           NaN   \n",
       "..                                   ...                           ...   \n",
       "93                                   NaN                           NaN   \n",
       "94                                   NaN                           NaN   \n",
       "95                                   NaN                           NaN   \n",
       "96                                   NaN                           NaN   \n",
       "97                                   NaN                           NaN   \n",
       "\n",
       "   Unnamed: 37  \n",
       "0          NaN  \n",
       "1          NaN  \n",
       "2          NaN  \n",
       "3          NaN  \n",
       "4          NaN  \n",
       "..         ...  \n",
       "93         NaN  \n",
       "94         NaN  \n",
       "95         NaN  \n",
       "96         NaN  \n",
       "97         NaN  \n",
       "\n",
       "[98 rows x 38 columns]"
      ]
     },
     "execution_count": 16,
     "metadata": {},
     "output_type": "execute_result"
    }
   ],
   "source": []
  },
  {
   "cell_type": "code",
   "execution_count": 19,
   "metadata": {},
   "outputs": [],
   "source": [
    "schol_data.to_json(\"public/data/scholarships/scholarship_data.json\", orient=\"records\")"
   ]
  },
  {
   "cell_type": "code",
   "execution_count": null,
   "metadata": {},
   "outputs": [],
   "source": []
  }
 ],
 "metadata": {
  "kernelspec": {
   "display_name": "quiz_backend",
   "language": "python",
   "name": "python3"
  },
  "language_info": {
   "codemirror_mode": {
    "name": "ipython",
    "version": 3
   },
   "file_extension": ".py",
   "mimetype": "text/x-python",
   "name": "python",
   "nbconvert_exporter": "python",
   "pygments_lexer": "ipython3",
   "version": "3.9.12"
  },
  "orig_nbformat": 4,
  "vscode": {
   "interpreter": {
    "hash": "a22a3c1a833c484268b629d10500c4d4f5e83f0440bb4577f2799fa06ed79215"
   }
  }
 },
 "nbformat": 4,
 "nbformat_minor": 2
}
